{
 "cells": [
  {
   "cell_type": "code",
   "execution_count": 1,
   "id": "c0b1d63d-58e3-447b-8847-f8bd55cc25c4",
   "metadata": {},
   "outputs": [
    {
     "name": "stdin",
     "output_type": "stream",
     "text": [
      "Please enter the file name:  x\n"
     ]
    },
    {
     "name": "stdout",
     "output_type": "stream",
     "text": [
      "The extension of the file is :  x\n"
     ]
    }
   ],
   "source": [
    "value = input(\"Please enter the file name: \")\n",
    "\n",
    "split = value.split(\".\")\n",
    "\n",
    "print(\"The extension of the file is : \",split[-1])"
   ]
  },
  {
   "cell_type": "code",
   "execution_count": 3,
   "id": "d4a8bf21-c1a7-4fdf-9b9a-5313db930e79",
   "metadata": {},
   "outputs": [
    {
     "name": "stdout",
     "output_type": "stream",
     "text": [
      "Red Black\n"
     ]
    }
   ],
   "source": [
    "inputs = [\"Red\", \"Green\", \"White\", \"Black\"]\n",
    "\n",
    "print(inputs[0],inputs[-1])"
   ]
  },
  {
   "cell_type": "code",
   "execution_count": 4,
   "id": "26ef0e30-d70c-4321-ae73-896053660bfe",
   "metadata": {},
   "outputs": [],
   "source": [
    "# %s will insert the string "
   ]
  },
  {
   "cell_type": "code",
   "execution_count": 5,
   "id": "ef279ab1-aadb-4999-8670-9bbd5ae36bbe",
   "metadata": {},
   "outputs": [
    {
     "name": "stdout",
     "output_type": "stream",
     "text": [
      "Your colors are Red Black\n"
     ]
    }
   ],
   "source": [
    "print(\"Your colors are %s %s\" % (inputs[0],inputs[-1]))"
   ]
  },
  {
   "cell_type": "code",
   "execution_count": 9,
   "id": "a2ef837b-049e-4d4d-b74f-7d28afe08702",
   "metadata": {},
   "outputs": [
    {
     "name": "stdin",
     "output_type": "stream",
     "text": [
      "Please enter an integer:  5\n"
     ]
    },
    {
     "name": "stdout",
     "output_type": "stream",
     "text": [
      "615\n"
     ]
    }
   ],
   "source": [
    "a = input(\"Please enter an integer: \")\n",
    "\n",
    "n1 = int(\"%s\" % a)\n",
    "n2 = int(\"%s%s\" % (a,a))\n",
    "n3 = int(\"%s%s%s\" % (a , a , a))\n",
    "\n",
    "print(n1+n2+n3)"
   ]
  },
  {
   "cell_type": "code",
   "execution_count": null,
   "id": "b1547945-e6d3-49af-b520-37ad17dc43dc",
   "metadata": {},
   "outputs": [],
   "source": []
  }
 ],
 "metadata": {
  "kernelspec": {
   "display_name": "Python 3 (ipykernel)",
   "language": "python",
   "name": "python3"
  },
  "language_info": {
   "codemirror_mode": {
    "name": "ipython",
    "version": 3
   },
   "file_extension": ".py",
   "mimetype": "text/x-python",
   "name": "python",
   "nbconvert_exporter": "python",
   "pygments_lexer": "ipython3",
   "version": "3.12.0"
  }
 },
 "nbformat": 4,
 "nbformat_minor": 5
}
